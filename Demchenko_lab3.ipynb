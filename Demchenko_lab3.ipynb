{
 "cells": [
  {
   "cell_type": "markdown",
   "metadata": {
    "toc": true
   },
   "source": [
    "<h1>Table of Contents<span class=\"tocSkip\"></span></h1>\n",
    "<div class=\"toc\"><ul class=\"toc-item\"><li><span><a href=\"#Тема-3.-Функции\" data-toc-modified-id=\"Тема-3.-Функции-1\"><span class=\"toc-item-num\">1&nbsp;&nbsp;</span>Тема 3. Функции</a></span></li><li><span><a href=\"#Задания\" data-toc-modified-id=\"Задания-2\"><span class=\"toc-item-num\">2&nbsp;&nbsp;</span>Задания</a></span></li></ul></div>"
   ]
  },
  {
   "cell_type": "markdown",
   "metadata": {},
   "source": [
    "\n",
    "# Тема 3. Функции"
   ]
  },
  {
   "cell_type": "markdown",
   "metadata": {},
   "source": [
    "# Задания\n",
    "\n",
    "Выполните задания\n",
    "\n"
   ]
  },
  {
   "cell_type": "markdown",
   "metadata": {},
   "source": [
    "1. Имеется список из 20 случайных чисел от 0 до 100. Напишите функцию, которая разбивает этот список на $n$ списков по $k$ элементов и включает все эти списки в новый список. Используйте $k$ в качестве параметра функции.\n",
    "\n",
    "2. Напишите функцию, вычисляющую факториал числа, передаваемого в качестве параметра.\n",
    "\n",
    "3. Написать функцию умножения, принимающую от одного до трех параметров. Функцию вызвать с приведенными ниже аргументами. Для случая a4 выбрать 3 первых и 3 последних значения.\n",
    "```\n",
    "a1 = (15, 10 ,5)\n",
    "a2 = (3, 1)\n",
    "a3 = [2, 35, 55]\n",
    "a4 = (5, 10 ,15, 20)\n",
    "```\n",
    "\n",
    "4. Напишите функцию, которая для заданного радиуса r вычисляет площадь круга и длину окружности. Функция возвращает кортеж из 2 значений.\n",
    "\n",
    "5. Реализовать функции для выполнения четырех арифметических операций, преобразующих целые числа в целое число. Создать словарь с функциями исоответствующими им симв олами операций. Для двух заранее заданных целых чисел (например, 25 и 4) выполнить выбранную пользователем арифметическую операцию.\n",
    "\n",
    "6. Написать калькулятор для строковых выражений вида '<число> <операция> <число>', где <число> - целое число, например 113, <арифметическая операция> - одна из операций `+,-,*,//,%,^`. Пример: `calc('13 - 5') -> 8`\n",
    "\n",
    "7. Написать функцию, которая преобразует целое число (от 0 до 999) из текстового представления на русском языке в число типа int. Пример: `to_int('тридцать три') -> 33`\n",
    "\n",
    "8. Написать функцию, которая преобразует целое число (от 0 до 999) из текстового представления на русском языке в число типа int. И сообщает об ошибках (выводит на экран описание типа ошибки и возвращает число -1). Пример: to_int('тридцать три') -> 33 Пример: to_int(\"сто сорок тридцать два сто\") -> -1 Вывод: тридцать - некорректное расположение в числе."
   ]
  },
  {
   "attachments": {},
   "cell_type": "markdown",
   "metadata": {},
   "source": [
    "1.\n"
   ]
  },
  {
   "cell_type": "code",
   "execution_count": 28,
   "metadata": {},
   "outputs": [
    {
     "name": "stdout",
     "output_type": "stream",
     "text": [
      "[[11, 24, 25, 32, 88], [95, 25, 29, 72, 59], [100, 83, 39, 68, 59], [20, 36, 99, 38, 75]]\n"
     ]
    }
   ],
   "source": [
    "\n",
    "def func(numbers, k):\n",
    "    if not numbers:\n",
    "        return[]\n",
    "    \n",
    "    n = len(numbers) // k\n",
    "    res = [numbers[i:i + k] for i in range(0,len(numbers), k)]\n",
    "    return res    \n",
    "\n",
    "from random import randint\n",
    "\n",
    "numbers = []\n",
    "for i in range(20):\n",
    "    numbers.append(randint(0, 100))\n",
    "\n",
    "k = 5\n",
    "reslist = func(numbers,k)\n",
    "print(reslist)"
   ]
  },
  {
   "attachments": {},
   "cell_type": "markdown",
   "metadata": {},
   "source": [
    "2."
   ]
  },
  {
   "cell_type": "code",
   "execution_count": 29,
   "metadata": {},
   "outputs": [
    {
     "name": "stdout",
     "output_type": "stream",
     "text": [
      "Факториал числа 5 равен 120\n"
     ]
    }
   ],
   "source": [
    "def fac(n):\n",
    "    if n < 0:\n",
    "        return \"Факториала отрицательного числа нет\"\n",
    "    elif n == 0:\n",
    "        return 1\n",
    "    else:\n",
    "        return n * fac(n-1)\n",
    "        #res = 1\n",
    "        #for i in range(1, n + 1):\n",
    "            #res +=i\n",
    "        #return res\n",
    "num = 5\n",
    "res = fac(num)\n",
    "print(f\"Факториал числа {num} равен {res}\")"
   ]
  },
  {
   "attachments": {},
   "cell_type": "markdown",
   "metadata": {},
   "source": [
    "3."
   ]
  },
  {
   "cell_type": "code",
   "execution_count": 30,
   "metadata": {},
   "outputs": [
    {
     "name": "stdout",
     "output_type": "stream",
     "text": [
      "750\n",
      "3\n",
      "3850\n",
      "2250000\n"
     ]
    }
   ],
   "source": [
    "def mult(*args):\n",
    "    res = 1\n",
    "    for num in args:\n",
    "        res *= num\n",
    "    return res\n",
    "а1 = (15, 10, 5)\n",
    "а2 = (3, 1)\n",
    "а3 = [2, 35, 55]\n",
    "а4 = (5, 10, 15, 20)\n",
    "\n",
    "resa1 = mult(*а1)\n",
    "print(resa1)\n",
    "\n",
    "resa2 = mult(*а2)\n",
    "print(resa2)\n",
    "\n",
    "resa3 = mult(*а3)\n",
    "print(resa3)\n",
    "\n",
    "resa4 = mult(*а4[:3], *а4[-3:])\n",
    "print(resa4)"
   ]
  },
  {
   "attachments": {},
   "cell_type": "markdown",
   "metadata": {},
   "source": [
    "4."
   ]
  },
  {
   "cell_type": "code",
   "execution_count": 31,
   "metadata": {},
   "outputs": [
    {
     "name": "stdout",
     "output_type": "stream",
     "text": [
      "(78.5, (6, 70))\n"
     ]
    }
   ],
   "source": [
    "def calc(r):\n",
    "    if r < 0:\n",
    "        return \"Error\"\n",
    "    area = 3.14 * r**2\n",
    "    circ = 2 * 3,14 * r\n",
    "    return (area, circ)\n",
    "\n",
    "r = 5\n",
    "circP = calc(r)\n",
    "\n",
    "print(circP)"
   ]
  },
  {
   "attachments": {},
   "cell_type": "markdown",
   "metadata": {},
   "source": [
    "5."
   ]
  },
  {
   "cell_type": "code",
   "execution_count": 32,
   "metadata": {},
   "outputs": [
    {
     "ename": "ValueError",
     "evalue": "invalid literal for int() with base 10: ''",
     "output_type": "error",
     "traceback": [
      "\u001b[1;31m---------------------------------------------------------------------------\u001b[0m",
      "\u001b[1;31mValueError\u001b[0m                                Traceback (most recent call last)",
      "Cell \u001b[1;32mIn[32], line 19\u001b[0m\n\u001b[0;32m     13\u001b[0m     \u001b[39mreturn\u001b[39;00m a \u001b[39m/\u001b[39m b\n\u001b[0;32m     16\u001b[0m operations \u001b[39m=\u001b[39m {\u001b[39m'\u001b[39m\u001b[39m+\u001b[39m\u001b[39m'\u001b[39m: add, \u001b[39m'\u001b[39m\u001b[39m-\u001b[39m\u001b[39m'\u001b[39m: subtract, \u001b[39m'\u001b[39m\u001b[39m*\u001b[39m\u001b[39m'\u001b[39m: multiply, \u001b[39m'\u001b[39m\u001b[39m/\u001b[39m\u001b[39m'\u001b[39m: divide}\n\u001b[1;32m---> 19\u001b[0m number1 \u001b[39m=\u001b[39m \u001b[39mint\u001b[39;49m(\u001b[39minput\u001b[39;49m(\u001b[39m\"\u001b[39;49m\u001b[39mВведите первое число\u001b[39;49m\u001b[39m\"\u001b[39;49m))\n\u001b[0;32m     20\u001b[0m number2 \u001b[39m=\u001b[39m \u001b[39mint\u001b[39m(\u001b[39minput\u001b[39m(\u001b[39m\"\u001b[39m\u001b[39mВведите второе число\u001b[39m\u001b[39m\"\u001b[39m))\n\u001b[0;32m     22\u001b[0m \u001b[39mprint\u001b[39m(\u001b[39m\"\u001b[39m\u001b[39mВыберите операцию: +, -, *, /\u001b[39m\u001b[39m\"\u001b[39m)\n",
      "\u001b[1;31mValueError\u001b[0m: invalid literal for int() with base 10: ''"
     ]
    }
   ],
   "source": [
    "def add(a, b):\n",
    "    return a + b\n",
    "\n",
    "def subtract(a, b):\n",
    "    return a - b\n",
    "\n",
    "def multiply(a, b):\n",
    "    return a * b\n",
    "\n",
    "def divide(a, b):\n",
    "    if b == 0:\n",
    "        return \"Деление на ноль невозможно\"\n",
    "    return a / b\n",
    "\n",
    "\n",
    "operations = {'+': add, '-': subtract, '*': multiply, '/': divide}\n",
    "\n",
    "\n",
    "number1 = int(input(\"Введите первое число\"))\n",
    "number2 = int(input(\"Введите второе число\"))\n",
    "\n",
    "print(\"Выберите операцию: +, -, *, /\")\n",
    "operator = input(\"Операция: \")\n",
    "\n",
    "\n",
    "if operator in operations:\n",
    "    result = operations[operator](number1, number2)\n",
    "    print(f\"Результат: {result}\")\n",
    "else:\n",
    "    print(\"Некорректная операция\")"
   ]
  },
  {
   "attachments": {},
   "cell_type": "markdown",
   "metadata": {},
   "source": [
    "6."
   ]
  },
  {
   "cell_type": "code",
   "execution_count": null,
   "metadata": {},
   "outputs": [
    {
     "name": "stdout",
     "output_type": "stream",
     "text": [
      "Результат: 18\n"
     ]
    }
   ],
   "source": [
    "def calculate_expression(expression):\n",
    "    # Разделяем входную строку на числа и операцию\n",
    "    parts = expression.split()\n",
    "    if len(parts) != 3:\n",
    "        return \"Неверный формат выражения\"\n",
    "    \n",
    "    num1, operator, num2 = parts\n",
    "    num1 = int(num1)\n",
    "    num2 = int(num2)\n",
    "    \n",
    "    # Выполняем соответствующую арифметическую операцию\n",
    "    if operator == '+':\n",
    "        result = num1 + num2\n",
    "    elif operator == '-':\n",
    "        result = num1 - num2\n",
    "    elif operator == '*':\n",
    "        result = num1 * num2\n",
    "    elif operator == '/':\n",
    "        if num2 == 0:\n",
    "            return \"Деление на ноль невозможно\"\n",
    "        result = num1 / num2\n",
    "    elif operator == '%':\n",
    "        result = num1 % num2\n",
    "    elif operator == '^':\n",
    "        result = num1 ** num2\n",
    "    else:\n",
    "        return \"Неверный оператор\"\n",
    "    \n",
    "    return result\n",
    "\n",
    "# Пример использования функции\n",
    "expression = \"13 + 5\"  # Здесь вы можете ввести другие выражения\n",
    "result = calculate_expression(expression)\n",
    "print(f\"Результат: {result}\")"
   ]
  },
  {
   "attachments": {},
   "cell_type": "markdown",
   "metadata": {},
   "source": [
    "7."
   ]
  },
  {
   "cell_type": "code",
   "execution_count": null,
   "metadata": {},
   "outputs": [],
   "source": []
  }
 ],
 "metadata": {
  "kernelspec": {
   "display_name": "Python 3 (ipykernel)",
   "language": "python",
   "name": "python3"
  },
  "language_info": {
   "codemirror_mode": {
    "name": "ipython",
    "version": 3
   },
   "file_extension": ".py",
   "mimetype": "text/x-python",
   "name": "python",
   "nbconvert_exporter": "python",
   "pygments_lexer": "ipython3",
   "version": "3.11.6"
  },
  "toc": {
   "base_numbering": 1,
   "nav_menu": {},
   "number_sections": true,
   "sideBar": true,
   "skip_h1_title": false,
   "title_cell": "Table of Contents",
   "title_sidebar": "Contents",
   "toc_cell": true,
   "toc_position": {},
   "toc_section_display": true,
   "toc_window_display": false
  },
  "varInspector": {
   "cols": {
    "lenName": 16,
    "lenType": 16,
    "lenVar": 40
   },
   "kernels_config": {
    "python": {
     "delete_cmd_postfix": "",
     "delete_cmd_prefix": "del ",
     "library": "var_list.py",
     "varRefreshCmd": "print(var_dic_list())"
    },
    "r": {
     "delete_cmd_postfix": ") ",
     "delete_cmd_prefix": "rm(",
     "library": "var_list.r",
     "varRefreshCmd": "cat(var_dic_list()) "
    }
   },
   "types_to_exclude": [
    "module",
    "function",
    "builtin_function_or_method",
    "instance",
    "_Feature"
   ],
   "window_display": false
  }
 },
 "nbformat": 4,
 "nbformat_minor": 4
}
